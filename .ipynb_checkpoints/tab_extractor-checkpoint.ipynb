{
 "cells": [
  {
   "cell_type": "code",
   "execution_count": 31,
   "id": "fb394eee-b374-4154-abb1-4546a5584635",
   "metadata": {},
   "outputs": [
    {
     "name": "stdout",
     "output_type": "stream",
     "text": [
      "\n",
      "Tabla comparativa:\n",
      "   numero de nodos  TPS entrada  TPS salida\n",
      "0              4.0         25.1       19.56\n"
     ]
    }
   ],
   "source": [
    "    import seaborn as sns\n",
    "    import pandas as pd\n",
    "    import matplotlib.pyplot as plt\n",
    "    \n",
    "    def extract_tables(url):\n",
    "        # Read HTML tables into a list of DataFrame objects.\n",
    "        tables = pd.read_html(url)\n",
    "    \n",
    "        for i, table in enumerate(tables):\n",
    "            print(f\"Table {i}\")\n",
    "            print(table)\n",
    "            print(\"\\n\" * 2)\n",
    "    def extract_table(url, index):\n",
    "        # lee la tabla selecionada\n",
    "        tables = pd.read_html(url)\n",
    "        table= tables[index]\n",
    "        return table\n",
    "    \n",
    "    # def suma_parametros (ruta, numero_reportes,param):\n",
    "    #     for i in range (1,numero_reportes+1):\n",
    "    #         print(ruta+f'/report-{i}.html')\n",
    "    #         print(\"\\n\")\n",
    "    #         table = extract_table((ruta+f'/report-{i}.html'),1) \n",
    "    #         print(table)\n",
    "    #         resultado = getattr(table, param)\n",
    "    #         print(resultado+50)\n",
    "            \n",
    "    def concatenar_tablas (ruta, numero_reportes):\n",
    "        primera_tabla = extract_table((ruta+f'/report-1.html'),1) \n",
    "        tabla_concatenada = primera_tabla.iloc[0:0]  # Inicializar tabla_concatenada con las mismas columnas que primera_tabla\n",
    "        for i in range(1, numero_reportes+1):\n",
    "            tabla = extract_table((ruta+f'/report-{i}.html'),1) \n",
    "            tabla['round'] = i\n",
    "            tabla_concatenada = pd.concat([tabla_concatenada, tabla], ignore_index=True)\n",
    "        return tabla_concatenada\n",
    "            \n",
    "    # Concatenar las tablas\n",
    "    tablas = concatenar_tablas('/home/alonso/Descargas/reportes', 10)\n",
    "    \n",
    "    # Seleccionar solo las columnas numéricas\n",
    "    tablas_numericas = tablas.select_dtypes(include=['number'])\n",
    "    \n",
    "    # Calcular la media y la suma de cada columna numérica\n",
    "    mean = tablas_numericas.mean()\n",
    "    suma = tablas_numericas.sum()\n",
    "    \n",
    "    # Generar tabla comparativa\n",
    "    tabla_comparativa = pd.DataFrame(columns=['numero de nodos', 'TPS entrada', 'TPS salida'])\n",
    "    \n",
    "    # Agregar una fila a la tabla comparativa con las estadísticas calculadas\n",
    "    tabla_comparativa.loc[len(tabla_comparativa)] = [4, mean['Send Rate (TPS)'], mean['Throughput (TPS)']]\n",
    "    \n",
    "    print(\"\\nTabla comparativa:\")\n",
    "    print(tabla_comparativa)\n",
    "    # seccion de graficas con seaborn\n",
    "    # sns.barplot(x='round',y='Throughput (TPS)', data=tablas)\n",
    "    \n"
   ]
  },
  {
   "cell_type": "code",
   "execution_count": null,
   "id": "e0a5d1fc-f5f2-4e5f-97e4-27e9f04dfcbd",
   "metadata": {},
   "outputs": [],
   "source": []
  }
 ],
 "metadata": {
  "kernelspec": {
   "display_name": "Python 3 (ipykernel)",
   "language": "python",
   "name": "python3"
  },
  "language_info": {
   "codemirror_mode": {
    "name": "ipython",
    "version": 3
   },
   "file_extension": ".py",
   "mimetype": "text/x-python",
   "name": "python",
   "nbconvert_exporter": "python",
   "pygments_lexer": "ipython3",
   "version": "3.11.7"
  }
 },
 "nbformat": 4,
 "nbformat_minor": 5
}
