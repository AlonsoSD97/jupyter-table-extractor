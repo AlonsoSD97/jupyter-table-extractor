{
 "cells": [
  {
   "cell_type": "code",
   "execution_count": 45,
   "id": "fb394eee-b374-4154-abb1-4546a5584635",
   "metadata": {},
   "outputs": [
    {
     "name": "stdout",
     "output_type": "stream",
     "text": [
      "/home/alonso/Descargas/report-1.html\n",
      "\n",
      "\n",
      "              Name  Succ  Fail  Send Rate (TPS)  Max Latency (s)  \\\n",
      "0  añadir_paciente   100     0             10.1             2.61   \n",
      "\n",
      "   Min Latency (s)  Avg Latency (s)  Throughput (TPS)  \n",
      "0              0.5             1.57               9.1  \n",
      "0    150\n",
      "Name: Succ, dtype: int64\n",
      "\n",
      "\n",
      "              Name  Succ  Fail  Send Rate (TPS)  Max Latency (s)  \\\n",
      "0  añadir_paciente   291   209             25.1             2.46   \n",
      "1  añadir_paciente   301   199             25.1             3.17   \n",
      "2  añadir_paciente   500     0             25.1             2.47   \n",
      "3  añadir_paciente   500     0             25.1             2.61   \n",
      "4  añadir_paciente   500     0             25.1             2.50   \n",
      "5  añadir_paciente   500     0             25.1             2.57   \n",
      "6  añadir_paciente   141   359             25.1             2.43   \n",
      "7  añadir_paciente   301   199             25.1             2.70   \n",
      "8  añadir_paciente   500     0             25.1             2.66   \n",
      "9  añadir_paciente   500     0             25.1             2.50   \n",
      "\n",
      "   Min Latency (s)  Avg Latency (s)  Throughput (TPS)  round  \n",
      "0             0.33             1.42               4.1    1.0  \n",
      "1             0.46             1.50              23.4    2.0  \n",
      "2             0.31             1.41              23.4    3.0  \n",
      "3             0.37             1.50              23.4    4.0  \n",
      "4             0.30             1.40              23.4    5.0  \n",
      "5             0.39             1.47              23.4    6.0  \n",
      "6             0.31             1.34               4.3    7.0  \n",
      "7             0.30             1.46              23.4    8.0  \n",
      "8             0.31             1.47              23.4    9.0  \n",
      "9             0.31             1.46              23.4   10.0  \n",
      "4034\n"
     ]
    }
   ],
   "source": [
    "    import pandas as pd\n",
    "    \n",
    "    def extract_tables(url):\n",
    "        # Read HTML tables into a list of DataFrame objects.\n",
    "        tables = pd.read_html(url)\n",
    "    \n",
    "        for i, table in enumerate(tables):\n",
    "            print(f\"Table {i}\")\n",
    "            print(table)\n",
    "            print(\"\\n\" * 2)\n",
    "    def extract_table(url, index):\n",
    "        # lee la tabla selecionada\n",
    "        tables = pd.read_html(url)\n",
    "        table= tables[index]\n",
    "        return table\n",
    "    \n",
    "    def suma_parametros (ruta, numero_reportes,param):\n",
    "        for i in range (1,numero_reportes+1):\n",
    "            print(ruta+f'/report-{i}.html')\n",
    "            print(\"\\n\")\n",
    "            table = extract_table((ruta+f'/report-{i}.html'),1) \n",
    "            print(table)\n",
    "            resultado = getattr(table, param)\n",
    "            print(resultado+50)\n",
    "            \n",
    "    def concatenar_tablas (ruta, numero_reportes):\n",
    "        primera_tabla = extract_table((ruta+f'/report-1.html'),1) \n",
    "        tabla_concatenada = primera_tabla.iloc[0:0]  # Inicializar tabla_concatenada con las mismas columnas que primera_tabla\n",
    "        for i in range(1, numero_reportes+1):\n",
    "            tabla = extract_table((ruta+f'/report-{i}.html'),1) \n",
    "            tabla['round'] = i\n",
    "            tabla_concatenada = pd.concat([tabla_concatenada, tabla], ignore_index=True)\n",
    "        return tabla_concatenada\n",
    "            \n",
    "    suma_parametros('/home/alonso/Descargas',1,'Succ')\n",
    "    print('\\n')\n",
    "    print(concatenar_tablas('/home/alonso/Descargas/reportes',10))\n",
    "    suma= concatenar_tablas('/home/alonso/Descargas/reportes',10).sum()\n",
    "    print (suma)\n",
    "    # print(\"\\n\")\n",
    "    # print(table.Succ + 10)\n"
   ]
  },
  {
   "cell_type": "code",
   "execution_count": null,
   "id": "e0a5d1fc-f5f2-4e5f-97e4-27e9f04dfcbd",
   "metadata": {},
   "outputs": [],
   "source": []
  }
 ],
 "metadata": {
  "kernelspec": {
   "display_name": "Python 3 (ipykernel)",
   "language": "python",
   "name": "python3"
  },
  "language_info": {
   "codemirror_mode": {
    "name": "ipython",
    "version": 3
   },
   "file_extension": ".py",
   "mimetype": "text/x-python",
   "name": "python",
   "nbconvert_exporter": "python",
   "pygments_lexer": "ipython3",
   "version": "3.11.7"
  }
 },
 "nbformat": 4,
 "nbformat_minor": 5
}
